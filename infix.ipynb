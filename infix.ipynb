{
 "cells": [
  {
   "cell_type": "code",
   "execution_count": 1,
   "id": "2ff37c79",
   "metadata": {},
   "outputs": [
    {
     "data": {
      "text/plain": [
       "'((a+b)-(c*d))'"
      ]
     },
     "execution_count": 1,
     "metadata": {},
     "output_type": "execute_result"
    }
   ],
   "source": [
    "def is_operator(char):\n",
    "    return char in ['+', '-', '*', '/', '^']\n",
    "\n",
    "def prefix_to_infix(prefix_expression):\n",
    "    stack = []\n",
    "    \n",
    "    for symbol in reversed(prefix_expression):\n",
    "        if not is_operator(symbol):\n",
    "            stack.append(symbol)\n",
    "        else:\n",
    "            operand1 = stack.pop()\n",
    "            operand2 = stack.pop()\n",
    "            infix_expression = f\"({operand1}{symbol}{operand2})\"\n",
    "            stack.append(infix_expression)\n",
    "    \n",
    "    # The final item in the stack will be the infix expression\n",
    "    return stack[0]\n",
    "\n",
    "# Example usage:\n",
    "prefix_expr = \"-+ab*cd\"\n",
    "infix_expr = prefix_to_infix(prefix_expr)\n",
    "infix_expr\n"
   ]
  },
  {
   "cell_type": "code",
   "execution_count": null,
   "id": "555bd202",
   "metadata": {},
   "outputs": [],
   "source": []
  }
 ],
 "metadata": {
  "kernelspec": {
   "display_name": "Python 3 (ipykernel)",
   "language": "python",
   "name": "python3"
  },
  "language_info": {
   "codemirror_mode": {
    "name": "ipython",
    "version": 3
   },
   "file_extension": ".py",
   "mimetype": "text/x-python",
   "name": "python",
   "nbconvert_exporter": "python",
   "pygments_lexer": "ipython3",
   "version": "3.11.4"
  }
 },
 "nbformat": 4,
 "nbformat_minor": 5
}
